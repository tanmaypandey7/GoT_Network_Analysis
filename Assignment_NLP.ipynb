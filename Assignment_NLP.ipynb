{
  "nbformat": 4,
  "nbformat_minor": 0,
  "metadata": {
    "colab": {
      "name": "Assignment-NLP.ipynb",
      "version": "0.3.2",
      "provenance": [],
      "include_colab_link": true
    },
    "kernelspec": {
      "name": "python3",
      "display_name": "Python 3"
    }
  },
  "cells": [
    {
      "cell_type": "markdown",
      "metadata": {
        "id": "view-in-github",
        "colab_type": "text"
      },
      "source": [
        "[View in Colaboratory](https://colab.research.google.com/github/tanmaypandey7/GoT_Network_Analysis/blob/master/Assignment_NLP.ipynb)"
      ]
    },
    {
      "metadata": {
        "id": "Mbedq4pypF_V",
        "colab_type": "code",
        "colab": {}
      },
      "cell_type": "code",
      "source": [
        "# Uncomment the lines to install the libraries\n",
        "# !pip install PyPDF2\n",
        "# !pip install textblob"
      ],
      "execution_count": 0,
      "outputs": []
    },
    {
      "metadata": {
        "id": "bjzS19dmpQDZ",
        "colab_type": "code",
        "colab": {}
      },
      "cell_type": "code",
      "source": [
        "import PyPDF2\n",
        "from nltk.corpus import stopwords\n",
        "from nltk.tokenize import word_tokenize\n",
        "import nltk\n",
        "import re"
      ],
      "execution_count": 0,
      "outputs": []
    },
    {
      "metadata": {
        "id": "wpq_DoZjpbFX",
        "colab_type": "code",
        "colab": {
          "resources": {
            "http://localhost:8080/nbextensions/google.colab/files.js": {
              "data": "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",
              "ok": true,
              "headers": [
                [
                  "content-type",
                  "application/javascript"
                ]
              ],
              "status": 200,
              "status_text": ""
            }
          },
          "base_uri": "https://localhost:8080/",
          "height": 89
        },
        "outputId": "8f4ca16d-1465-4889-8375-e9e13616355b"
      },
      "cell_type": "code",
      "source": [
        "#Upload the required pdf files\n",
        "from google.colab import files\n",
        "\n",
        "uploaded = files.upload()\n",
        "\n",
        "for fn in uploaded.keys():\n",
        "  print('User uploaded file \"{name}\" with length {length} bytes'.format(name=fn, length=len(uploaded[fn])))"
      ],
      "execution_count": 225,
      "outputs": [
        {
          "output_type": "display_data",
          "data": {
            "text/html": [
              "\n",
              "     <input type=\"file\" id=\"files-dfb48fef-632f-4580-aceb-a75ef5e56073\" name=\"files[]\" multiple disabled />\n",
              "     <output id=\"result-dfb48fef-632f-4580-aceb-a75ef5e56073\">\n",
              "      Upload widget is only available when the cell has been executed in the\n",
              "      current browser session. Please rerun this cell to enable.\n",
              "      </output>\n",
              "      <script src=\"/nbextensions/google.colab/files.js\"></script> "
            ],
            "text/plain": [
              "<IPython.core.display.HTML object>"
            ]
          },
          "metadata": {
            "tags": []
          }
        },
        {
          "output_type": "stream",
          "text": [
            "Saving JavaBasics-notes.pdf to JavaBasics-notes (3).pdf\n",
            "User uploaded file \"JavaBasics-notes.pdf\" with length 321459 bytes\n"
          ],
          "name": "stdout"
        }
      ]
    },
    {
      "metadata": {
        "id": "F-IjUSDNprQx",
        "colab_type": "code",
        "colab": {}
      },
      "cell_type": "code",
      "source": [
        "#Reading them now\n",
        "file = open('JavaBasics-notes.pdf', 'rb')\n",
        "fileReader = PyPDF2.PdfFileReader(file)"
      ],
      "execution_count": 0,
      "outputs": []
    },
    {
      "metadata": {
        "id": "m8rqnkwMwW5T",
        "colab_type": "code",
        "colab": {}
      },
      "cell_type": "code",
      "source": [
        "#Convert it to string\n",
        "num_pages=fileReader.numPages\n",
        "count=0\n",
        "text=' '\n",
        "\n",
        "while count<num_pages:\n",
        "    pageObj = fileReader.getPage(count)\n",
        "    count +=1\n",
        "    text += pageObj.extractText()"
      ],
      "execution_count": 0,
      "outputs": []
    },
    {
      "metadata": {
        "id": "ssbvj8Qzwpmc",
        "colab_type": "code",
        "colab": {
          "base_uri": "https://localhost:8080/",
          "height": 54
        },
        "outputId": "8662ab2f-4759-413d-c040-5904df0a58a9"
      },
      "cell_type": "code",
      "source": [
        "#Now starting the preprocessing part,first converting to lower case.\n",
        "text=text.lower()\n",
        "print(text)"
      ],
      "execution_count": 229,
      "outputs": [
        {
          "output_type": "stream",
          "text": [
            " java basics© 1996-2003 jguru.com. all rights reserved.java basics -1java basicstopics in this section include:! what makes java programs portable, secure, and robust! the structure of java applets and applications! how java applications are executed! how applets are invoked and executed! the java language, part i! comments! declarations! expressions! statements! garbage collection! java semanticsportabilityjava programs are portable across operating systems and hardware environments.portability is to your advantage because:! you need only one version of your software to serve a broad market.! the internet, in effect, becomes one giant, dynamic library.! you are no longer limited by your particular computer platform.three features make java string programs portable:1. the language. the java language is completely specified; all data-type sizes andformats are defined as part of the language. by contrast, c/c++ leaves these\"details\" up to the compiler implementor, and many c/c++ programs thereforejava basicsjava basics -2© 1996-2003 jguru.com. all rights reserved.are not portable.2. the library. the java class library is available on any machine with a javaruntime system, because a portable program is of no use if you cannot use thesame class library on every platform. window-manager function calls in a macapplication written in c/c++, for example, do not port well to a pc.3. the byte code. the java runtime system does not compile your source codedirectly into machine language, an inflexible and nonportable representation ofyour program. instead, java programs are translated into machine-independentbyte code. the byte code is easily interpreted and therefore can be executed onany platform having a java runtime system. (the latest versions of the netscapenavigator browser, for example, can run applets on virtually any platform).securitythe java language is secure in that it is very difficult to write incorrect code orviruses that can corrupt/steal your data, or harm hardware such as hard disks.there are two main lines of defense:! interpreter level:! no pointer arithmetic! garbage collection! array bounds checking! no illegal data conversions! browser level (applies to applets only):! no local file i/o! sockets back to host only! no calls to native methodsrobustnessthe java language is robust. it has several features designed to avoid crashesduring program execution, including:! no pointer arithmeticjava basics© 1996-2003 jguru.com. all rights reserved.java basics -3! garbage collection--no bad addresses! array and string bounds checking! no jumping to bad method addresses! interfaces and exceptionsjava program structurea file containing java source code is considered a compilation unit. such acompilation unit contains a set of classes and, optionally, a package definition togroup related classes together. classes contain data and method members thatspecify the state and behavior of the objects in your program.java programs come in two flavors:! standalone applications that have no initial context such as a pre-existing mainwindow! applets for www programmingthe major differences between applications and applets are:! applets are not allowed to use file i/o and sockets (other than to the hostplatform). applications do not have these restrictions.! an applet must be a subclass of the java applet class. aplications do not need tosubclass any particular class.! unlike applets, applications can have menus.! unlike applications, applets need to respond to predefined lifecycle messagesfrom the www browser in which they're running.java program executionthe java byte-code compiler translates a java source file into machine-independent byte code. the byte code for each publicly visible class is placed in aseparate file, so that the java runtime system can easily find it. if your programinstantiates an object of class a, for example, the class loader searches thedirectories listed in your classpath environment variable for a file called a.classthat contains the class definition and byte code for class a.there is no link phase for java programs; all linking is done dynamically atjava basicsjava basics -4© 1996-2003 jguru.com. all rights reserved.runtime.the following diagram shows an example of the java compilation and executionsequence for a source file named a.java containing public class a and non-publicclass b:java programs are, in effect, distributed applications. you may think of them as acollection of dlls (dynamically loadable libraries) that are linked on demand atruntime. when you write your own java applications, you will often integrateyour program with already-existing portions of code that reside on othermachines.a simple applicationconsider the following trivial application that prints \"hi there\" to standardoutput:java basics© 1996-2003 jguru.com. all rights reserved.java basics -5public class trivialapplication {  // args[0] is first argument  // args[1] the second  public static void main(string args[]) {    system.out.println(\"hi there\");  }}the command java trivialapplication tells the java runtime system to beginwith the class file trivialapplication.class and to look in that file for amethod with the signature:public static void main(string args[]);the main() method will always reside in one of your class files. the javalanguage does not allow methods outside of class definitions. the class, in effect,creates scoped symbol startingclassname.main for your main() method.applet executionan applet is a java program that runs within a java-compatible www browser orin an appletviewer. to execute your applet, the browser:! creates an instance of your applet! sends messages to your applet to automatically invoke predefined lifecyclemethodsthe predefined methods automatically invoked by the runtime system are:! init(). this method takes the place of the applet constructor and is only calledonce during applet creation. instance variables should be initialized in this method.gui components such as buttons and scrollbars should be added to the gui inthis method.! start(). this method is called once after init() and whenever your applet isrevisited by your browser, or when you deiconify your browser. this methodshould be used to start animations and other threads.! paint(graphics g). this method is called when the applet drawing area needsto be redrawn. anything not drawn by contained components must be drawn inthis method. bitmaps, for example, are drawn here, but buttons are not becausethey handle their own painting.! stop(). this method is called when you leave an applet or when you iconifyyour browser. the method should be used to suspend animations and otherjava basicsjava basics -6© 1996-2003 jguru.com. all rights reserved.threads so they do not burden system resources unnecessarily. it is guaranteed tobe called before destroy().! destroy(). this method is called when an applet terminates, for example, whenquitting the browser. final clean-up operations such as freeing up systemresources with dispose() should be done here. the dispose() method of frameremoves the menu bar. therefore, do not forget to call super.dispose() if youoverride the default behavior.the basic structure of an applet that uses each of these predefined methods is:import java.applet.applet;// include all awt class definitionsimport java.awt.*;public class applettemplate extends applet {  public void init() {    // create gui, initialize applet  }  public void start() {    // start threads, animations etc...  }  public void paint(graphics g) {    // draw things in g  }  public void stop() {    // suspend threads, stop animations etc...  }  public void destroy() {    // free up system resources, stop threads  }}all you have to do is fill in the appropriate methods to bring your applet to life. ifyou don't need to use one or more of these predefined methods, simply leave themout of your applet. the applet will ignore messages from the browser attemptingto invoke any of these methods that you don't use.a simple appletthe following complete applet displays \"hello, world wide web!\" in yourbrowser window:import java.applet.applet;import java.awt.graphics;public class trivialapplet extends applet {  public void paint(graphics g) {    // display a string at 20,20java basics© 1996-2003 jguru.com. all rights reserved.java basics -7    // where 0,0 is the upper-left corner    g.drawstring(\"hello, world wide web!\", 20, 20);  }}an appletviewer may be used instead of a www browser to test applets. forexample, the output of trivialapplet on an appletviewer looks like:html/applet interfacethe html applet tag is similar to the html img tag, and has the form:<applet code=appletname.class width=w height=h>[parameters]</applet>where the optional parameters are a list of parameter definitions of the form:<param name=n value=v>an example tag with parameter definitions is:<applet code=appletname.class width=300 height=200><param name=p1 value=34><param name=p2 value=\"test\"></applet>where p1 and p2 are user-defined parameters.the code, width, and height parameters are mandatory. the parameterscodebase, alt, archives, align, vspace, and hspace are optional within the<applet> tag itself. your applet can access any of these parameters by calling:applet.getparameter(\"p\")which returns the string value of the parameter. for example, the applet:import java.applet.applet;public class paramtest extends applet {  public void init() {    system.out.println(\"width is \" + getparameter(\"width\"));    system.out.println(\"p1 is \"    + getparameter(\"p1\"));java basicsjava basics -8© 1996-2003 jguru.com. all rights reserved.    system.out.println(\"p2 is \"    + getparameter(\"p2\"));  }}prints the following to standard output:width is 300p1 is 34p2 is testcommentsjava comments are the same as c++ comments, i.e.,/* c-style block comments */where all text between the opening /* and closing */ is ignored, and// c++ style single-line commentswhere all text from the opening // to the end of the line is ignored.note that these two comments can make a very useful combination. c-stylecomments (/* ... */) cannot be nested, but can contain c++ style comments.this leads to the interesting observation that if you always use c++-stylecomments (// ...), you can easily comment out a section of code by surroundingit with c-style comments. so try to use c++ style comments for your \"normal\"code commentary, and reserve c-style comments for commenting out sections ofcode.the java language also has a document comment:/** document comment */these comments are processed by the javadoc program to generatedocumentation from your source code. for example,/** this class does blah blah blah */class blah {  /** this method does nothing  /**   * this is a multiple line comment.   * the leading * is not placed in documentation.   */  public void nothing() {;}}java basics© 1996-2003 jguru.com. all rights reserved.java basics -9declarationsa java variable may refer to an object, an array, or an item of primitive type.variables are defined using the following simple syntax:typename variablename;for example,int a;     // defines an integerint[] b;   // defines a reference to array of intsvector v;  // reference to a vector objectprimitive typesthe java language has the following primitive types:primitive typesprimitive typedescriptionbooleantrue/falsebyte8 bitschar16 bits (unicode)short16 bitsint32 bitslong64 bitsfloat32 bits ieee 754-1985double64 bits ieee 754-1985java int types may not be used as boolean types and are always signed.objectsa simple c++ object or c struct definition such as \"button b;\" allocatesmemory on the stack for a button object and makes b refer to it. by contrast, youmust specifically instantiate java objects with the new operator. for example,java basicsjava basics -10© 1996-2003 jguru.com. all rights reserved.// java codevoid foo() {  // define a reference to a button; init to null  button b;  // allocate space for a button, b points to it  b = new button(\"ok\");  int i = 2;}as the accompanying figure shows, this code places a reference b to the buttonobject on the stack and allocates memory for the new object on the heap.the equivalent c++ and c statements that would allocate memory on the heapwould be:// c++ codebutton *b = null;      // declare a new button pointerb = new button(\"ok\");  // point it to a new button/* c code */button *b = null;              /* declare a new button pointer */b = calloc(1, sizeof(button)); /* allocate space for a button */init(b, \"ok\");                 /* something like this to init b */all java objects reside on the heap; there are no objects stored on the stack.storing objects on the heap does not cause potential memory leakage problemsbecause of garbage collection.each java primitive type has an equivalent object type, e.g., integer, byte,float, double. these primitive types are provided in addition to object typespurely for efficiency. an int is much more efficient than an integer.java basics© 1996-2003 jguru.com. all rights reserved.java basics -11stringsjava string literals look the same as those in c/c++, but java strings are realobjects, not pointers to memory. java strings may or may not be null-terminated.every string literal such as\"a string literal\"is interpreted by the java compiler asnew string(\"a string literal\")java strings are constant in length and content. for variable-length strings, usestringbuffer objects.strings may be concatenated by using the plus operator:string s = \"one\" + \"two\"; // s == \"onetwo\"you may concatenate any object to a string. you use the tostring() method toconvert objects to a string, and primitive types are converted by the compiler.for example,string s = \"1+1=\" + 2; // s == \"1+1=2\"the length of a string may be obtained with string method length(); e.g.,\"abc\".length() has the value 3.to convert an int to a string, use:string s = string.valueof(4);to convert a string to an int, use:int a = integer.parseint(\"4\");array objectsin c and c++, arrays are pointers to data in memory. java arrays are objects thatknow the number and type of their elements. the first element is index 0, as inc/c++.generic array object# elementsjava basicsjava basics -12© 1996-2003 jguru.com. all rights reserved.element typeelement 0element 1...element n-1the syntax for creating an array object is:typename[] variablename;this declaration defines the array object--it does not allocate memory for the arrayobject nor does it allocate the elements of the array in addition, you may notspecify a size within the square brackets.to allocate an array, use the new operator:int[] a = new int[5];  // java code: make array of 5 intsnew int[5]5int00000in c or c++, by contrast, you would write either/* c/c++ code: make array of 5 ints on the stack */int a[5];or/* c/c++ code: make array of 5 ints on the heap */java basics© 1996-2003 jguru.com. all rights reserved.java basics -13int *a = new int[5];an array of java objects such as// java code: make array of 5 references to buttonsbutton[] a = new button[5];creates the array object itself, but not the elements:new button[5]5buttonnull pointernull pointernull pointernull pointernull pointeryou must use the new operator to create the elements:a[0] = new button(\"ok\");a[3] = new button(\"quit\");in c++, to make an array of pointers to objects you would write:// c++: make an array of 5 pointers to buttonsbutton **a = new button *[5]; // create the arraya[0] = new button(\"ok\");      // create two new buttonsa[3] = new button(\"quit\");in c, code for the same task would look like:/* c: make an array of 5 pointers to structs *//* allocate the array */button **a = calloc(5, sizeof(button *));/* allocate one button */a[0] = calloc(1, sizeof(button));/* init the first button */settitle(a[0], \"ok\");/* allocate another button */a[3] = calloc(1, sizeof(button));/* init the second button */java basicsjava basics -14© 1996-2003 jguru.com. all rights reserved.settitle(a[3], \"quit\");multi-dimensional java arrays are created by making arrays of arrays, just as inc/c++. for example,t[][] t = new t[10][5];makes a five-element array of ten arrays of references to objects of type t. thisstatement does not allocate memory for any t objects.accessing an undefined array element causes a runtime exception calledarrayindexoutofboundsexception.accessing a defined array element that has not yet been assigned to an objectresults in a runtime nullpointerexception.initializersvariables may be initialized as follows:! primitive typesint i = 3;boolean g = true;! objectsbutton b = null;employee e = new employee();! arraysint[] i = {1, 2, 3, 4};or in java 1.1int[] i;i = new int[] {1, 2, 3, 4};constantsvariables modified by the static final keywords are constants (equivalent tothe const keyword in c++; no equivalent in c). for example,// same as \"const int version=1;\" in c++static final int version = 1;static final string owner = \"terence\";java basics© 1996-2003 jguru.com. all rights reserved.java basics -15expressionsmost java expressions are similar to those in c/c++.constant expressionsitemexamples or descriptionidi, namelistqualified-idinteger.max_value, obj.member,npackage.class, package.objid[e][f]...[g]a[i], b[3][4]string literal\"jim\", delimited by \"\"char literal'a', '\\t', delimited by ''unicode character constant\\u00aeboolean literaltrue, false (not an int)int constant4float constant3.14f, 2.7e6f, f or f suffixdouble constant3.14, 2.7e6d, (default) / d or d suffixhexadecimal constant0x123octal constant077nullthe null object (note lowercase!)thisthe current objectsuperthe superclass view of this objectgeneral expressionsitemexamples or descriptionjava basicsjava basics -16© 1996-2003 jguru.com. all rights reserved.idi, namelistobj.method(args)instance method callclass.method(args)class method call( expr )(3+4)*7new t(constructor-args)instantiates a new object or class tnew t[e][f]...[g]allocates an array objectoperatorsthe java language has added the >>> zero-extend right-shift operator to the set ofc++ operators. (c++ operators include instanceof and new, which are notpresent in c. note that sizeof has been removed, as memory allocation ishandled for you.) the operators, in order of highest to lowest priority, are:! new! .! -- ++ + - ~ ! (typename)! * / %! + -! << >> >>>! < > <= >= instanceof! == !=! &! ^! |! &&! ||! ?:! = *= /= %= += -= <<= >>= >>>= &= ^= |=note that the precedence of the new operator and the '.' operator bindjava basics© 1996-2003 jguru.com. all rights reserved.java basics -17differently than in c++. a proper java statement is:// java codenew t().method();in c++, you would use:// c++ code(new t)->method();statementsjava statements are similar to those in c/c++ as the following table shows.forms of common statementsstatementexamplesifif (boolean-expr) stat1if (boolean-expr) stat1 else stat2switchswitch (int-expr) {case int-const-expr : stat1case int-const-expr : stat2default : stat3}forfor (int i=0; i<10; i++) statwhilewhile (boolean-expr) statdo-whiledo { stats } while (boolean-expr)returnreturn expr;the java break and continue statements may have labels. these labels refer tothe specific loop that the break or continue apply to. (each loop can bepreceded by a label.)java semanticswe say that the java language has \"reference semantics\" and c/c++ have \"copysemantics.\" this means that java objects are passed to methods by reference injava, while objects are passed by value in c/c++.java primitive types, however, are not treated in the same way as java objects.primitive types are assigned, compared, and passed as arguments using copyjava basicsjava basics -18© 1996-2003 jguru.com. all rights reserved.semantics, just as in c/c++. for example, i = j for two int variables i and jperforms a 32-bit integer copy.assignment of objectsassignment makes two variables refer to the same object. for example,class data {  public int data = 0;  public data(int d) { data = d; }}i       data a = new data(1); // a.data is 1i       data b = new data(2); // b.data is 2ii      b = a;                // b.data and a.data are 1iii     a.data = 3;           // b.data and a.data are 3iv      a = new data(4);      // b.data is 3, a.data is 4to copy objects, define and use clone():class data implements cloneable {  public int data = 0;  public data(int d) { data = d; }  public object clone() {    data d = (data) super.clone();    d.data = data;    return d;  }}...data a = new data(1); // a.data is 1data b = new data(2); // b.data is 2b = a.clone();        // b.data and a.data are 1a.data = 3;           // b.data is 1, a.data is 3java basics© 1996-2003 jguru.com. all rights reserved.java basics -19note: the above class definition requires exception handling code. we, however,have not yet discussed exception handling. for now, pretend that it is notnecessary.method parameters and return valuesarguments and return values for primitive types are passed by value to and fromall java methods because they are implied assignments, as in c/c++. however, alljava objects are passed by reference. for example, the c/c++ code:// c++ codeint foo(int j) { return j + 34;}button *bfoo(button *b) {  if ( b != null ) return b;  else return new button();}or, in c/* c code */int foo(int j) { return j + 34;}button *bfoo(button *b) {  if ( b != null ) return b;  else return calloc(sizeof(button));}would be written in the java language:// java codeint foo(int j) { return j + 34;}button bfoo(button b) {  if ( b != null ) return b;  else return new button(\"ok\");}equalitytwo java primitive types are equal (using the == operator) when they have thesame value (e.g., \"3 == 3\"). however, two object variables are equal if and only ifthey refer to the same instantiated object--a \"shallow\" comparison. for example,void test() {  data a = new data(1);  data b = new data(2);  data c = new data(1);  // a == b is false  // a == c is false (in c++, this'd be true)java basicsjava basics -20© 1996-2003 jguru.com. all rights reserved.  data d = a;  data e = a;  // d == e is true,  // d,e are referring to same object}to perform a \"deep\" comparison, the convention is to define a method calledequals(). you would rewrite data as:class data {  public int data = 0;  public data(int d) { data = d; }  boolean equals(data d) {    return data == d.data;  }}...data a = new data(1);data b = new data(1);// a.equals(b) is true!!!!no pointers!the java language does not have pointer types nor address arithmetic. javavariables are either primitive types or references to objects. to illustrate thedifference between c/c++ and java semantics, consider the following equivalentcode fragments.// c++ code (c code would be similar)stack *s = new stack; // point to a new stacks->push(...);// dereference and access method push()the equivalent java code is:// java code// internally, consider s to be a (stack *)stack s = new stack();// dereference s automaticallys.push(...);garbage collectionan automatic garbage collector deallocates memory for objects that are no longerneeded by your program, thereby relieving you from the tedious and error-pronejava basics© 1996-2003 jguru.com. all rights reserved.java basics -21task of deallocating your own memory.as a consequence of automatic garbage collection and lack of pointers, a javaobject is either null or valid--there is no way to refer to an invalid or stale object(one that has been deallocated).to illustrate the effect of a garbage collector, consider the following c++ functionthat allocates 1000 objects on the heap via the new operator (a similar c functionwould allocate memory using calloc/malloc):// c++ codevoid f() {  t *t;  for (int i = 1; i <= 1000; i++) {    t = new t; // ack!!!!!  }}every time the loop body is executed, a new instance of class t is instantiated, andt is pointed to it. but what happens to the instance that t used to point to? it'sstill allocated, but nothing points to it and therefore it's inaccessible. memory inthis state is referred to as \"leaked\" memory.in the java language, memory leaks are not an issue. the following java methodcauses no ill effects:// java codevoid f() {  t t;  for (int i = 1; i <= 1000; i++) {    t = new t();  }}in java, each time t is assigned a new reference, the old reference is now availablefor garbage collection. note that it isn't immediately freed; it remains allocateduntil the garbage collector thread is next executed and notices that it can be freed.put simply, automatic garbage collection reduces programming effort,programming errors, and program complexity.[mml: 0.995a][version: $id: //depot/main/src/edu/modules/javabasics/javabasics.mml#3 $]java basicsjava basics -22© 1996-2003 jguru.com. all rights reserved.java basics© 1996-2003 jguru.com. all rights reserved.java basics -23this page intentionally left blank\n"
          ],
          "name": "stdout"
        }
      ]
    },
    {
      "metadata": {
        "id": "9okObG4HEksb",
        "colab_type": "code",
        "colab": {
          "base_uri": "https://localhost:8080/",
          "height": 54
        },
        "outputId": "565c3c53-32d0-4ed3-ac34-329f43d9e270"
      },
      "cell_type": "code",
      "source": [
        "#Removeing \n",
        "my_new_string = re.sub('[^ a-zA-Z0-9]', ' ', text)\n",
        "print(my_new_string)"
      ],
      "execution_count": 230,
      "outputs": [
        {
          "output_type": "stream",
          "text": [
            " java basics  1996 2003 jguru com  all rights reserved java basics  1java basicstopics in this section include   what makes java programs portable  secure  and robust  the structure of java applets and applications  how java applications are executed  how applets are invoked and executed  the java language  part i  comments  declarations  expressions  statements  garbage collection  java semanticsportabilityjava programs are portable across operating systems and hardware environments portability is to your advantage because   you need only one version of your software to serve a broad market   the internet  in effect  becomes one giant  dynamic library   you are no longer limited by your particular computer platform three features make java string programs portable 1  the language  the java language is completely specified  all data type sizes andformats are defined as part of the language  by contrast  c c   leaves these details  up to the compiler implementor  and many c c   programs thereforejava basicsjava basics  2  1996 2003 jguru com  all rights reserved are not portable 2  the library  the java class library is available on any machine with a javaruntime system  because a portable program is of no use if you cannot use thesame class library on every platform  window manager function calls in a macapplication written in c c    for example  do not port well to a pc 3  the byte code  the java runtime system does not compile your source codedirectly into machine language  an inflexible and nonportable representation ofyour program  instead  java programs are translated into machine independentbyte code  the byte code is easily interpreted and therefore can be executed onany platform having a java runtime system   the latest versions of the netscapenavigator browser  for example  can run applets on virtually any platform  securitythe java language is secure in that it is very difficult to write incorrect code orviruses that can corrupt steal your data  or harm hardware such as hard disks there are two main lines of defense   interpreter level   no pointer arithmetic  garbage collection  array bounds checking  no illegal data conversions  browser level  applies to applets only    no local file i o  sockets back to host only  no calls to native methodsrobustnessthe java language is robust  it has several features designed to avoid crashesduring program execution  including   no pointer arithmeticjava basics  1996 2003 jguru com  all rights reserved java basics  3  garbage collection  no bad addresses  array and string bounds checking  no jumping to bad method addresses  interfaces and exceptionsjava program structurea file containing java source code is considered a compilation unit  such acompilation unit contains a set of classes and  optionally  a package definition togroup related classes together  classes contain data and method members thatspecify the state and behavior of the objects in your program java programs come in two flavors   standalone applications that have no initial context such as a pre existing mainwindow  applets for www programmingthe major differences between applications and applets are   applets are not allowed to use file i o and sockets  other than to the hostplatform   applications do not have these restrictions   an applet must be a subclass of the java applet class  aplications do not need tosubclass any particular class   unlike applets  applications can have menus   unlike applications  applets need to respond to predefined lifecycle messagesfrom the www browser in which they re running java program executionthe java byte code compiler translates a java source file into machine independent byte code  the byte code for each publicly visible class is placed in aseparate file  so that the java runtime system can easily find it  if your programinstantiates an object of class a  for example  the class loader searches thedirectories listed in your classpath environment variable for a file called a classthat contains the class definition and byte code for class a there is no link phase for java programs  all linking is done dynamically atjava basicsjava basics  4  1996 2003 jguru com  all rights reserved runtime the following diagram shows an example of the java compilation and executionsequence for a source file named a java containing public class a and non publicclass b java programs are  in effect  distributed applications  you may think of them as acollection of dlls  dynamically loadable libraries  that are linked on demand atruntime  when you write your own java applications  you will often integrateyour program with already existing portions of code that reside on othermachines a simple applicationconsider the following trivial application that prints  hi there  to standardoutput java basics  1996 2003 jguru com  all rights reserved java basics  5public class trivialapplication       args 0  is first argument     args 1  the second  public static void main string args         system out println  hi there       the command java trivialapplication tells the java runtime system to beginwith the class file trivialapplication class and to look in that file for amethod with the signature public static void main string args    the main   method will always reside in one of your class files  the javalanguage does not allow methods outside of class definitions  the class  in effect creates scoped symbol startingclassname main for your main   method applet executionan applet is a java program that runs within a java compatible www browser orin an appletviewer  to execute your applet  the browser   creates an instance of your applet  sends messages to your applet to automatically invoke predefined lifecyclemethodsthe predefined methods automatically invoked by the runtime system are   init    this method takes the place of the applet constructor and is only calledonce during applet creation  instance variables should be initialized in this method gui components such as buttons and scrollbars should be added to the gui inthis method   start    this method is called once after init   and whenever your applet isrevisited by your browser  or when you deiconify your browser  this methodshould be used to start animations and other threads   paint graphics g   this method is called when the applet drawing area needsto be redrawn  anything not drawn by contained components must be drawn inthis method  bitmaps  for example  are drawn here  but buttons are not becausethey handle their own painting   stop    this method is called when you leave an applet or when you iconifyyour browser  the method should be used to suspend animations and otherjava basicsjava basics  6  1996 2003 jguru com  all rights reserved threads so they do not burden system resources unnecessarily  it is guaranteed tobe called before destroy     destroy    this method is called when an applet terminates  for example  whenquitting the browser  final clean up operations such as freeing up systemresources with dispose   should be done here  the dispose   method of frameremoves the menu bar  therefore  do not forget to call super dispose   if youoverride the default behavior the basic structure of an applet that uses each of these predefined methods is import java applet applet    include all awt class definitionsimport java awt   public class applettemplate extends applet    public void init           create gui  initialize applet     public void start           start threads  animations etc        public void paint graphics g          draw things in g     public void stop           suspend threads  stop animations etc        public void destroy           free up system resources  stop threads    all you have to do is fill in the appropriate methods to bring your applet to life  ifyou don t need to use one or more of these predefined methods  simply leave themout of your applet  the applet will ignore messages from the browser attemptingto invoke any of these methods that you don t use a simple appletthe following complete applet displays  hello  world wide web   in yourbrowser window import java applet applet import java awt graphics public class trivialapplet extends applet    public void paint graphics g          display a string at 20 20java basics  1996 2003 jguru com  all rights reserved java basics  7       where 0 0 is the upper left corner    g drawstring  hello  world wide web    20  20      an appletviewer may be used instead of a www browser to test applets  forexample  the output of trivialapplet on an appletviewer looks like html applet interfacethe html applet tag is similar to the html img tag  and has the form  applet code appletname class width w height h  parameters   applet where the optional parameters are a list of parameter definitions of the form  param name n value v an example tag with parameter definitions is  applet code appletname class width 300 height 200  param name p1 value 34  param name p2 value  test    applet where p1 and p2 are user defined parameters the code  width  and height parameters are mandatory  the parameterscodebase  alt  archives  align  vspace  and hspace are optional within the applet  tag itself  your applet can access any of these parameters by calling applet getparameter  p  which returns the string value of the parameter  for example  the applet import java applet applet public class paramtest extends applet    public void init        system out println  width is     getparameter  width        system out println  p1 is        getparameter  p1    java basicsjava basics  8  1996 2003 jguru com  all rights reserved     system out println  p2 is        getparameter  p2        prints the following to standard output width is 300p1 is 34p2 is testcommentsjava comments are the same as c   comments  i e     c style block comments   where all text between the opening    and closing    is ignored  and   c   style single line commentswhere all text from the opening    to the end of the line is ignored note that these two comments can make a very useful combination  c stylecomments             cannot be nested  but can contain c   style comments this leads to the interesting observation that if you always use c   stylecomments           you can easily comment out a section of code by surroundingit with c style comments  so try to use c   style comments for your  normal code commentary  and reserve c style comments for commenting out sections ofcode the java language also has a document comment     document comment   these comments are processed by the javadoc program to generatedocumentation from your source code  for example     this class does blah blah blah   class blah        this method does nothing          this is a multiple line comment      the leading   is not placed in documentation        public void nothing       java basics  1996 2003 jguru com  all rights reserved java basics  9declarationsa java variable may refer to an object  an array  or an item of primitive type variables are defined using the following simple syntax typename variablename for example int a         defines an integerint   b       defines a reference to array of intsvector v      reference to a vector objectprimitive typesthe java language has the following primitive types primitive typesprimitive typedescriptionbooleantrue falsebyte8 bitschar16 bits  unicode short16 bitsint32 bitslong64 bitsfloat32 bits ieee 754 1985double64 bits ieee 754 1985java int types may not be used as boolean types and are always signed objectsa simple c   object or c struct definition such as  button b   allocatesmemory on the stack for a button object and makes b refer to it  by contrast  youmust specifically instantiate java objects with the new operator  for example java basicsjava basics  10  1996 2003 jguru com  all rights reserved    java codevoid foo         define a reference to a button  init to null  button b      allocate space for a button  b points to it  b   new button  ok     int i   2  as the accompanying figure shows  this code places a reference b to the buttonobject on the stack and allocates memory for the new object on the heap the equivalent c   and c statements that would allocate memory on the heapwould be    c   codebutton  b   null          declare a new button pointerb   new button  ok        point it to a new button   c code   button  b   null                  declare a new button pointer   b   calloc 1  sizeof button       allocate space for a button   init b   ok                       something like this to init b   all java objects reside on the heap  there are no objects stored on the stack storing objects on the heap does not cause potential memory leakage problemsbecause of garbage collection each java primitive type has an equivalent object type  e g   integer  byte float  double  these primitive types are provided in addition to object typespurely for efficiency  an int is much more efficient than an integer java basics  1996 2003 jguru com  all rights reserved java basics  11stringsjava string literals look the same as those in c c    but java strings are realobjects  not pointers to memory  java strings may or may not be null terminated every string literal such as a string literal is interpreted by the java compiler asnew string  a string literal  java strings are constant in length and content  for variable length strings  usestringbuffer objects strings may be concatenated by using the plus operator string s    one     two      s     onetwo you may concatenate any object to a string  you use the tostring   method toconvert objects to a string  and primitive types are converted by the compiler for example string s    1 1     2     s     1 1 2 the length of a string may be obtained with string method length    e g   abc  length   has the value 3 to convert an int to a string  use string s   string valueof 4  to convert a string to an int  use int a   integer parseint  4   array objectsin c and c    arrays are pointers to data in memory  java arrays are objects thatknow the number and type of their elements  the first element is index 0  as inc c   generic array object  elementsjava basicsjava basics  12  1996 2003 jguru com  all rights reserved element typeelement 0element 1   element n 1the syntax for creating an array object is typename   variablename this declaration defines the array object  it does not allocate memory for the arrayobject nor does it allocate the elements of the array in addition  you may notspecify a size within the square brackets to allocate an array  use the new operator int   a   new int 5       java code  make array of 5 intsnew int 5 5int00000in c or c    by contrast  you would write either   c c   code  make array of 5 ints on the stack   int a 5  or   c c   code  make array of 5 ints on the heap   java basics  1996 2003 jguru com  all rights reserved java basics  13int  a   new int 5  an array of java objects such as   java code  make array of 5 references to buttonsbutton   a   new button 5  creates the array object itself  but not the elements new button 5 5buttonnull pointernull pointernull pointernull pointernull pointeryou must use the new operator to create the elements a 0    new button  ok   a 3    new button  quit   in c    to make an array of pointers to objects you would write    c    make an array of 5 pointers to buttonsbutton   a   new button   5      create the arraya 0    new button  ok            create two new buttonsa 3    new button  quit   in c  code for the same task would look like    c  make an array of 5 pointers to structs      allocate the array   button   a   calloc 5  sizeof button        allocate one button   a 0    calloc 1  sizeof button      init the first button   settitle a 0    ok      allocate another button   a 3    calloc 1  sizeof button      init the second button   java basicsjava basics  14  1996 2003 jguru com  all rights reserved settitle a 3    quit   multi dimensional java arrays are created by making arrays of arrays  just as inc c    for example t     t   new t 10  5  makes a five element array of ten arrays of references to objects of type t  thisstatement does not allocate memory for any t objects accessing an undefined array element causes a runtime exception calledarrayindexoutofboundsexception accessing a defined array element that has not yet been assigned to an objectresults in a runtime nullpointerexception initializersvariables may be initialized as follows   primitive typesint i   3 boolean g   true   objectsbutton b   null employee e   new employee     arraysint   i    1  2  3  4  or in java 1 1int   i i   new int    1  2  3  4  constantsvariables modified by the static final keywords are constants  equivalent tothe const keyword in c    no equivalent in c   for example    same as  const int version 1   in c  static final int version   1 static final string owner    terence  java basics  1996 2003 jguru com  all rights reserved java basics  15expressionsmost java expressions are similar to those in c c   constant expressionsitemexamples or descriptionidi  namelistqualified idinteger max value  obj member npackage class  package objid e  f     g a i   b 3  4 string literal jim   delimited by   char literal a     t   delimited by   unicode character constant u00aeboolean literaltrue  false  not an int int constant4float constant3 14f  2 7e6f  f or f suffixdouble constant3 14  2 7e6d   default    d or d suffixhexadecimal constant0x123octal constant077nullthe null object  note lowercase  thisthe current objectsuperthe superclass view of this objectgeneral expressionsitemexamples or descriptionjava basicsjava basics  16  1996 2003 jguru com  all rights reserved idi  namelistobj method args instance method callclass method args class method call  expr   3 4  7new t constructor args instantiates a new object or class tnew t e  f     g allocates an array objectoperatorsthe java language has added the     zero extend right shift operator to the set ofc   operators   c   operators include instanceof and new  which are notpresent in c  note that sizeof has been removed  as memory allocation ishandled for you   the operators  in order of highest to lowest priority  are   new                    typename                                    instanceof                                                                    note that the precedence of the new operator and the     operator bindjava basics  1996 2003 jguru com  all rights reserved java basics  17differently than in c    a proper java statement is    java codenew t   method   in c    you would use    c   code new t   method   statementsjava statements are similar to those in c c   as the following table shows forms of common statementsstatementexamplesifif  boolean expr  stat1if  boolean expr  stat1 else stat2switchswitch  int expr   case int const expr   stat1case int const expr   stat2default   stat3 forfor  int i 0  i 10  i    statwhilewhile  boolean expr  statdo whiledo   stats   while  boolean expr returnreturn expr the java break and continue statements may have labels  these labels refer tothe specific loop that the break or continue apply to   each loop can bepreceded by a label  java semanticswe say that the java language has  reference semantics  and c c   have  copysemantics   this means that java objects are passed to methods by reference injava  while objects are passed by value in c c   java primitive types  however  are not treated in the same way as java objects primitive types are assigned  compared  and passed as arguments using copyjava basicsjava basics  18  1996 2003 jguru com  all rights reserved semantics  just as in c c    for example  i   j for two int variables i and jperforms a 32 bit integer copy assignment of objectsassignment makes two variables refer to the same object  for example class data    public int data   0   public data int d    data   d    i       data a   new data 1      a data is 1i       data b   new data 2      b data is 2ii      b   a                    b data and a data are 1iii     a data   3               b data and a data are 3iv      a   new data 4           b data is 3  a data is 4to copy objects  define and use clone   class data implements cloneable    public int data   0   public data int d    data   d     public object clone        data d    data  super clone       d data   data     return d        data a   new data 1      a data is 1data b   new data 2      b data is 2b   a clone              b data and a data are 1a data   3               b data is 1  a data is 3java basics  1996 2003 jguru com  all rights reserved java basics  19note  the above class definition requires exception handling code  we  however have not yet discussed exception handling  for now  pretend that it is notnecessary method parameters and return valuesarguments and return values for primitive types are passed by value to and fromall java methods because they are implied assignments  as in c c    however  alljava objects are passed by reference  for example  the c c   code    c   codeint foo int j    return j   34  button  bfoo button  b     if   b    null   return b   else return new button    or  in c   c code   int foo int j    return j   34  button  bfoo button  b     if   b    null   return b   else return calloc sizeof button    would be written in the java language    java codeint foo int j    return j   34  button bfoo button b     if   b    null   return b   else return new button  ok    equalitytwo java primitive types are equal  using the    operator  when they have thesame value  e g    3    3    however  two object variables are equal if and only ifthey refer to the same instantiated object  a  shallow  comparison  for example void test      data a   new data 1    data b   new data 2    data c   new data 1       a    b is false     a    c is false  in c    this d be true java basicsjava basics  20  1996 2003 jguru com  all rights reserved   data d   a   data e   a      d    e is true      d e are referring to same object to perform a  deep  comparison  the convention is to define a method calledequals    you would rewrite data as class data    public int data   0   public data int d    data   d     boolean equals data d       return data    d data        data a   new data 1  data b   new data 1     a equals b  is true    no pointers the java language does not have pointer types nor address arithmetic  javavariables are either primitive types or references to objects  to illustrate thedifference between c c   and java semantics  consider the following equivalentcode fragments    c   code  c code would be similar stack  s   new stack     point to a new stacks  push         dereference and access method push  the equivalent java code is    java code   internally  consider s to be a  stack   stack s   new stack      dereference s automaticallys push      garbage collectionan automatic garbage collector deallocates memory for objects that are no longerneeded by your program  thereby relieving you from the tedious and error pronejava basics  1996 2003 jguru com  all rights reserved java basics  21task of deallocating your own memory as a consequence of automatic garbage collection and lack of pointers  a javaobject is either null or valid  there is no way to refer to an invalid or stale object one that has been deallocated  to illustrate the effect of a garbage collector  consider the following c   functionthat allocates 1000 objects on the heap via the new operator  a similar c functionwould allocate memory using calloc malloc     c   codevoid f      t  t   for  int i   1  i    1000  i         t   new t     ack         every time the loop body is executed  a new instance of class t is instantiated  andt is pointed to it  but what happens to the instance that t used to point to  it sstill allocated  but nothing points to it and therefore it s inaccessible  memory inthis state is referred to as  leaked  memory in the java language  memory leaks are not an issue  the following java methodcauses no ill effects    java codevoid f      t t   for  int i   1  i    1000  i         t   new t       in java  each time t is assigned a new reference  the old reference is now availablefor garbage collection  note that it isn t immediately freed  it remains allocateduntil the garbage collector thread is next executed and notices that it can be freed put simply  automatic garbage collection reduces programming effort programming errors  and program complexity  mml  0 995a  version   id    depot main src edu modules javabasics javabasics mml 3   java basicsjava basics  22  1996 2003 jguru com  all rights reserved java basics  1996 2003 jguru com  all rights reserved java basics  23this page intentionally left blank\n"
          ],
          "name": "stdout"
        }
      ]
    },
    {
      "metadata": {
        "id": "d6Knx-t2x58T",
        "colab_type": "code",
        "colab": {}
      },
      "cell_type": "code",
      "source": [
        "# Uncomment the following line to download the libraries.\n",
        "# nltk.download('all')"
      ],
      "execution_count": 0,
      "outputs": []
    },
    {
      "metadata": {
        "id": "LYLE0GCl2EZF",
        "colab_type": "code",
        "colab": {
          "base_uri": "https://localhost:8080/",
          "height": 34
        },
        "outputId": "9934cf1f-2802-4bb9-f236-03fac7ae20a3"
      },
      "cell_type": "code",
      "source": [
        "tokens=word_tokenize(my_new_string)\n",
        "sw=stopwords.words('english')\n",
        "len(tokens)"
      ],
      "execution_count": 232,
      "outputs": [
        {
          "output_type": "execute_result",
          "data": {
            "text/plain": [
              "3912"
            ]
          },
          "metadata": {
            "tags": []
          },
          "execution_count": 232
        }
      ]
    },
    {
      "metadata": {
        "id": "gHTTKLFR29jl",
        "colab_type": "code",
        "colab": {}
      },
      "cell_type": "code",
      "source": [
        "# keywords=[x for x in tokens if not x in sw ]\n",
        "# keywords[:15]\n",
        "keywords=tokens"
      ],
      "execution_count": 0,
      "outputs": []
    },
    {
      "metadata": {
        "id": "3zGCcqzC6tFn",
        "colab_type": "code",
        "colab": {
          "base_uri": "https://localhost:8080/",
          "height": 187
        },
        "outputId": "d5f64161-40c1-4dae-9eb5-e7878415c7dc"
      },
      "cell_type": "code",
      "source": [
        "tokens[:10]"
      ],
      "execution_count": 234,
      "outputs": [
        {
          "output_type": "execute_result",
          "data": {
            "text/plain": [
              "['java',\n",
              " 'basics',\n",
              " '1996',\n",
              " '2003',\n",
              " 'jguru',\n",
              " 'com',\n",
              " 'all',\n",
              " 'rights',\n",
              " 'reserved',\n",
              " 'java']"
            ]
          },
          "metadata": {
            "tags": []
          },
          "execution_count": 234
        }
      ]
    },
    {
      "metadata": {
        "id": "tfg8bEeR2waP",
        "colab_type": "code",
        "colab": {
          "base_uri": "https://localhost:8080/",
          "height": 187
        },
        "outputId": "bc77e8d2-d213-4091-d7a3-cec8e0c1fd71"
      },
      "cell_type": "code",
      "source": [
        "# def split(s):\n",
        "#   head = s.rstrip('0123456789')\n",
        "#   tail = s[len(head):]\n",
        "#   return head,tail\n",
        "r = re.compile(\"([a-zA-Z]+)([0-9]+)\")\n",
        "# m = r.match(tokens)\n",
        "# [split(s) for s in keywords ]\n",
        "# list(filter(None, initial) )\n",
        "z=[re.findall('\\d+|\\D+', x) for x in keywords]\n",
        "flat = [x for sublist in z for x in sublist]\n",
        "flat[:10]"
      ],
      "execution_count": 235,
      "outputs": [
        {
          "output_type": "execute_result",
          "data": {
            "text/plain": [
              "['java',\n",
              " 'basics',\n",
              " '1996',\n",
              " '2003',\n",
              " 'jguru',\n",
              " 'com',\n",
              " 'rights',\n",
              " 'reserved',\n",
              " 'java',\n",
              " 'basics']"
            ]
          },
          "metadata": {
            "tags": []
          },
          "execution_count": 235
        }
      ]
    },
    {
      "metadata": {
        "id": "OEhSVZukMdBE",
        "colab_type": "code",
        "colab": {
          "base_uri": "https://localhost:8080/",
          "height": 187
        },
        "outputId": "09be1466-fbcf-4a5a-ba52-a023503091dc"
      },
      "cell_type": "code",
      "source": [
        "final_str=[x for x in flat if not x.isdigit()]\n",
        "final_str[:10]"
      ],
      "execution_count": 249,
      "outputs": [
        {
          "output_type": "execute_result",
          "data": {
            "text/plain": [
              "['java',\n",
              " 'basics',\n",
              " 'jguru',\n",
              " 'com',\n",
              " 'rights',\n",
              " 'reserved',\n",
              " 'java',\n",
              " 'basics',\n",
              " 'java',\n",
              " 'basicstopics']"
            ]
          },
          "metadata": {
            "tags": []
          },
          "execution_count": 249
        }
      ]
    },
    {
      "metadata": {
        "id": "e4cmVFweXhKR",
        "colab_type": "code",
        "colab": {
          "base_uri": "https://localhost:8080/",
          "height": 1969
        },
        "outputId": "bf18ade0-d8d7-4dbb-f5ff-e4de37dbd604"
      },
      "cell_type": "code",
      "source": [
        "from sklearn.feature_extraction.text import TfidfVectorizer\n",
        "vectorizer = TfidfVectorizer(stop_words='english')\n",
        "tfidf_matrix = vectorizer.fit_transform(final_str)\n",
        "feature_names = vectorizer.get_feature_names()\n",
        "# dense = tfidf_matrix.toarray()\n",
        "# denselist = dense.tolist()\n",
        "# df = pd.DataFrame(denselist, columns=feature_names)\n",
        "idf =(vectorizer.idf_)\n",
        "dict_=dict(zip(feature_names, idf))\n",
        "df=pd.DataFrame(list(dict_.items()),columns=['Word','Tfidf-Frequency'])\n",
        "df.sort_values([\"Tfidf-Frequency\"],ascending=False,inplace=True)\n",
        "df"
      ],
      "execution_count": 255,
      "outputs": [
        {
          "output_type": "execute_result",
          "data": {
            "text/html": [
              "<div>\n",
              "<style scoped>\n",
              "    .dataframe tbody tr th:only-of-type {\n",
              "        vertical-align: middle;\n",
              "    }\n",
              "\n",
              "    .dataframe tbody tr th {\n",
              "        vertical-align: top;\n",
              "    }\n",
              "\n",
              "    .dataframe thead th {\n",
              "        text-align: right;\n",
              "    }\n",
              "</style>\n",
              "<table border=\"1\" class=\"dataframe\">\n",
              "  <thead>\n",
              "    <tr style=\"text-align: right;\">\n",
              "      <th></th>\n",
              "      <th>Word</th>\n",
              "      <th>Tfidf-Frequency</th>\n",
              "    </tr>\n",
              "  </thead>\n",
              "  <tbody>\n",
              "    <tr>\n",
              "      <th>0</th>\n",
              "      <td>abc</td>\n",
              "      <td>8.125283</td>\n",
              "    </tr>\n",
              "    <tr>\n",
              "      <th>437</th>\n",
              "      <td>loader</td>\n",
              "      <td>8.125283</td>\n",
              "    </tr>\n",
              "    <tr>\n",
              "      <th>468</th>\n",
              "      <td>methodcauses</td>\n",
              "      <td>8.125283</td>\n",
              "    </tr>\n",
              "    <tr>\n",
              "      <th>470</th>\n",
              "      <td>methodshould</td>\n",
              "      <td>8.125283</td>\n",
              "    </tr>\n",
              "    <tr>\n",
              "      <th>471</th>\n",
              "      <td>methodsrobustnessthe</td>\n",
              "      <td>8.125283</td>\n",
              "    </tr>\n",
              "    <tr>\n",
              "      <th>473</th>\n",
              "      <td>modified</td>\n",
              "      <td>8.125283</td>\n",
              "    </tr>\n",
              "    <tr>\n",
              "      <th>474</th>\n",
              "      <td>modules</td>\n",
              "      <td>8.125283</td>\n",
              "    </tr>\n",
              "    <tr>\n",
              "      <th>475</th>\n",
              "      <td>multi</td>\n",
              "      <td>8.125283</td>\n",
              "    </tr>\n",
              "    <tr>\n",
              "      <th>476</th>\n",
              "      <td>multiple</td>\n",
              "      <td>8.125283</td>\n",
              "    </tr>\n",
              "    <tr>\n",
              "      <th>477</th>\n",
              "      <td>named</td>\n",
              "      <td>8.125283</td>\n",
              "    </tr>\n",
              "    <tr>\n",
              "      <th>478</th>\n",
              "      <td>namelistobj</td>\n",
              "      <td>8.125283</td>\n",
              "    </tr>\n",
              "    <tr>\n",
              "      <th>479</th>\n",
              "      <td>namelistqualified</td>\n",
              "      <td>8.125283</td>\n",
              "    </tr>\n",
              "    <tr>\n",
              "      <th>480</th>\n",
              "      <td>native</td>\n",
              "      <td>8.125283</td>\n",
              "    </tr>\n",
              "    <tr>\n",
              "      <th>482</th>\n",
              "      <td>needsto</td>\n",
              "      <td>8.125283</td>\n",
              "    </tr>\n",
              "    <tr>\n",
              "      <th>483</th>\n",
              "      <td>nested</td>\n",
              "      <td>8.125283</td>\n",
              "    </tr>\n",
              "    <tr>\n",
              "      <th>484</th>\n",
              "      <td>netscapenavigator</td>\n",
              "      <td>8.125283</td>\n",
              "    </tr>\n",
              "    <tr>\n",
              "      <th>486</th>\n",
              "      <td>non</td>\n",
              "      <td>8.125283</td>\n",
              "    </tr>\n",
              "    <tr>\n",
              "      <th>487</th>\n",
              "      <td>nonportable</td>\n",
              "      <td>8.125283</td>\n",
              "    </tr>\n",
              "    <tr>\n",
              "      <th>488</th>\n",
              "      <td>normal</td>\n",
              "      <td>8.125283</td>\n",
              "    </tr>\n",
              "    <tr>\n",
              "      <th>466</th>\n",
              "      <td>messagesfrom</td>\n",
              "      <td>8.125283</td>\n",
              "    </tr>\n",
              "    <tr>\n",
              "      <th>464</th>\n",
              "      <td>menus</td>\n",
              "      <td>8.125283</td>\n",
              "    </tr>\n",
              "    <tr>\n",
              "      <th>463</th>\n",
              "      <td>menu</td>\n",
              "      <td>8.125283</td>\n",
              "    </tr>\n",
              "    <tr>\n",
              "      <th>450</th>\n",
              "      <td>major</td>\n",
              "      <td>8.125283</td>\n",
              "    </tr>\n",
              "    <tr>\n",
              "      <th>439</th>\n",
              "      <td>longer</td>\n",
              "      <td>8.125283</td>\n",
              "    </tr>\n",
              "    <tr>\n",
              "      <th>440</th>\n",
              "      <td>longerneeded</td>\n",
              "      <td>8.125283</td>\n",
              "    </tr>\n",
              "    <tr>\n",
              "      <th>442</th>\n",
              "      <td>looks</td>\n",
              "      <td>8.125283</td>\n",
              "    </tr>\n",
              "    <tr>\n",
              "      <th>444</th>\n",
              "      <td>lowercase</td>\n",
              "      <td>8.125283</td>\n",
              "    </tr>\n",
              "    <tr>\n",
              "      <th>445</th>\n",
              "      <td>lowest</td>\n",
              "      <td>8.125283</td>\n",
              "    </tr>\n",
              "    <tr>\n",
              "      <th>446</th>\n",
              "      <td>macapplication</td>\n",
              "      <td>8.125283</td>\n",
              "    </tr>\n",
              "    <tr>\n",
              "      <th>449</th>\n",
              "      <td>mainwindow</td>\n",
              "      <td>8.125283</td>\n",
              "    </tr>\n",
              "    <tr>\n",
              "      <th>...</th>\n",
              "      <td>...</td>\n",
              "      <td>...</td>\n",
              "    </tr>\n",
              "    <tr>\n",
              "      <th>303</th>\n",
              "      <td>garbage</td>\n",
              "      <td>6.333524</td>\n",
              "    </tr>\n",
              "    <tr>\n",
              "      <th>751</th>\n",
              "      <td>types</td>\n",
              "      <td>6.333524</td>\n",
              "    </tr>\n",
              "    <tr>\n",
              "      <th>580</th>\n",
              "      <td>program</td>\n",
              "      <td>6.333524</td>\n",
              "    </tr>\n",
              "    <tr>\n",
              "      <th>15</th>\n",
              "      <td>allocate</td>\n",
              "      <td>6.333524</td>\n",
              "    </tr>\n",
              "    <tr>\n",
              "      <th>72</th>\n",
              "      <td>basicsjava</td>\n",
              "      <td>6.333524</td>\n",
              "    </tr>\n",
              "    <tr>\n",
              "      <th>574</th>\n",
              "      <td>primitive</td>\n",
              "      <td>6.253481</td>\n",
              "    </tr>\n",
              "    <tr>\n",
              "      <th>613</th>\n",
              "      <td>return</td>\n",
              "      <td>6.179373</td>\n",
              "    </tr>\n",
              "    <tr>\n",
              "      <th>407</th>\n",
              "      <td>language</td>\n",
              "      <td>6.110380</td>\n",
              "    </tr>\n",
              "    <tr>\n",
              "      <th>762</th>\n",
              "      <td>use</td>\n",
              "      <td>6.110380</td>\n",
              "    </tr>\n",
              "    <tr>\n",
              "      <th>462</th>\n",
              "      <td>memory</td>\n",
              "      <td>6.110380</td>\n",
              "    </tr>\n",
              "    <tr>\n",
              "      <th>261</th>\n",
              "      <td>example</td>\n",
              "      <td>5.873991</td>\n",
              "    </tr>\n",
              "    <tr>\n",
              "      <th>505</th>\n",
              "      <td>objects</td>\n",
              "      <td>5.773908</td>\n",
              "    </tr>\n",
              "    <tr>\n",
              "      <th>500</th>\n",
              "      <td>object</td>\n",
              "      <td>5.773908</td>\n",
              "    </tr>\n",
              "    <tr>\n",
              "      <th>588</th>\n",
              "      <td>public</td>\n",
              "      <td>5.682936</td>\n",
              "    </tr>\n",
              "    <tr>\n",
              "      <th>398</th>\n",
              "      <td>jguru</td>\n",
              "      <td>5.640376</td>\n",
              "    </tr>\n",
              "    <tr>\n",
              "      <th>618</th>\n",
              "      <td>rights</td>\n",
              "      <td>5.640376</td>\n",
              "    </tr>\n",
              "    <tr>\n",
              "      <th>608</th>\n",
              "      <td>reserved</td>\n",
              "      <td>5.640376</td>\n",
              "    </tr>\n",
              "    <tr>\n",
              "      <th>137</th>\n",
              "      <td>com</td>\n",
              "      <td>5.640376</td>\n",
              "    </tr>\n",
              "    <tr>\n",
              "      <th>685</th>\n",
              "      <td>string</td>\n",
              "      <td>5.640376</td>\n",
              "    </tr>\n",
              "    <tr>\n",
              "      <th>48</th>\n",
              "      <td>array</td>\n",
              "      <td>5.599554</td>\n",
              "    </tr>\n",
              "    <tr>\n",
              "      <th>467</th>\n",
              "      <td>method</td>\n",
              "      <td>5.522593</td>\n",
              "    </tr>\n",
              "    <tr>\n",
              "      <th>128</th>\n",
              "      <td>code</td>\n",
              "      <td>5.352694</td>\n",
              "    </tr>\n",
              "    <tr>\n",
              "      <th>120</th>\n",
              "      <td>class</td>\n",
              "      <td>5.321923</td>\n",
              "    </tr>\n",
              "    <tr>\n",
              "      <th>71</th>\n",
              "      <td>basics</td>\n",
              "      <td>5.234911</td>\n",
              "    </tr>\n",
              "    <tr>\n",
              "      <th>367</th>\n",
              "      <td>int</td>\n",
              "      <td>5.180844</td>\n",
              "    </tr>\n",
              "    <tr>\n",
              "      <th>99</th>\n",
              "      <td>button</td>\n",
              "      <td>5.180844</td>\n",
              "    </tr>\n",
              "    <tr>\n",
              "      <th>29</th>\n",
              "      <td>applet</td>\n",
              "      <td>5.154869</td>\n",
              "    </tr>\n",
              "    <tr>\n",
              "      <th>485</th>\n",
              "      <td>new</td>\n",
              "      <td>4.926610</td>\n",
              "    </tr>\n",
              "    <tr>\n",
              "      <th>192</th>\n",
              "      <td>data</td>\n",
              "      <td>4.675296</td>\n",
              "    </tr>\n",
              "    <tr>\n",
              "      <th>391</th>\n",
              "      <td>java</td>\n",
              "      <td>4.193457</td>\n",
              "    </tr>\n",
              "  </tbody>\n",
              "</table>\n",
              "<p>800 rows × 2 columns</p>\n",
              "</div>"
            ],
            "text/plain": [
              "                     Word  Tfidf-Frequency\n",
              "0                     abc         8.125283\n",
              "437                loader         8.125283\n",
              "468          methodcauses         8.125283\n",
              "470          methodshould         8.125283\n",
              "471  methodsrobustnessthe         8.125283\n",
              "473              modified         8.125283\n",
              "474               modules         8.125283\n",
              "475                 multi         8.125283\n",
              "476              multiple         8.125283\n",
              "477                 named         8.125283\n",
              "478           namelistobj         8.125283\n",
              "479     namelistqualified         8.125283\n",
              "480                native         8.125283\n",
              "482               needsto         8.125283\n",
              "483                nested         8.125283\n",
              "484     netscapenavigator         8.125283\n",
              "486                   non         8.125283\n",
              "487           nonportable         8.125283\n",
              "488                normal         8.125283\n",
              "466          messagesfrom         8.125283\n",
              "464                 menus         8.125283\n",
              "463                  menu         8.125283\n",
              "450                 major         8.125283\n",
              "439                longer         8.125283\n",
              "440          longerneeded         8.125283\n",
              "442                 looks         8.125283\n",
              "444             lowercase         8.125283\n",
              "445                lowest         8.125283\n",
              "446        macapplication         8.125283\n",
              "449            mainwindow         8.125283\n",
              "..                    ...              ...\n",
              "303               garbage         6.333524\n",
              "751                 types         6.333524\n",
              "580               program         6.333524\n",
              "15               allocate         6.333524\n",
              "72             basicsjava         6.333524\n",
              "574             primitive         6.253481\n",
              "613                return         6.179373\n",
              "407              language         6.110380\n",
              "762                   use         6.110380\n",
              "462                memory         6.110380\n",
              "261               example         5.873991\n",
              "505               objects         5.773908\n",
              "500                object         5.773908\n",
              "588                public         5.682936\n",
              "398                 jguru         5.640376\n",
              "618                rights         5.640376\n",
              "608              reserved         5.640376\n",
              "137                   com         5.640376\n",
              "685                string         5.640376\n",
              "48                  array         5.599554\n",
              "467                method         5.522593\n",
              "128                  code         5.352694\n",
              "120                 class         5.321923\n",
              "71                 basics         5.234911\n",
              "367                   int         5.180844\n",
              "99                 button         5.180844\n",
              "29                 applet         5.154869\n",
              "485                   new         4.926610\n",
              "192                  data         4.675296\n",
              "391                  java         4.193457\n",
              "\n",
              "[800 rows x 2 columns]"
            ]
          },
          "metadata": {
            "tags": []
          },
          "execution_count": 255
        }
      ]
    },
    {
      "metadata": {
        "id": "2vdlgvOXF4pJ",
        "colab_type": "code",
        "colab": {}
      },
      "cell_type": "code",
      "source": [
        "# df=pd.DataFrame.from_dict(dict_,orient='index',columns=['Word','Frequency'])\n",
        "# df\n",
        "#to use later after program get proper "
      ],
      "execution_count": 0,
      "outputs": []
    },
    {
      "metadata": {
        "id": "cNYvdcfOVEXn",
        "colab_type": "code",
        "colab": {}
      },
      "cell_type": "code",
      "source": [
        "df.to_csv(\"final rankings.csv\",index=False)"
      ],
      "execution_count": 0,
      "outputs": []
    },
    {
      "metadata": {
        "id": "Ug6JMnSIDE-J",
        "colab_type": "code",
        "colab": {}
      },
      "cell_type": "code",
      "source": [
        "from google.colab import files\n",
        "files.download('final rankings.csv')"
      ],
      "execution_count": 0,
      "outputs": []
    },
    {
      "metadata": {
        "id": "Ddm3oh0chPKa",
        "colab_type": "code",
        "colab": {}
      },
      "cell_type": "code",
      "source": [
        ""
      ],
      "execution_count": 0,
      "outputs": []
    }
  ]
}